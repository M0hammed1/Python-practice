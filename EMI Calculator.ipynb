{
  "nbformat": 4,
  "nbformat_minor": 0,
  "metadata": {
    "colab": {
      "provenance": []
    },
    "kernelspec": {
      "name": "python3",
      "display_name": "Python 3"
    },
    "language_info": {
      "name": "python"
    }
  },
  "cells": [
    {
      "cell_type": "code",
      "source": [
        "def EMI_Calculator(loan_amount, annual_interest_rate, loan_term_years):\n",
        "\n",
        "  # Convert annual interest rate percentage to a monthly rate as a decimal\n",
        "  monthly_interest_rate = (annual_interest_rate / 100) / 12\n",
        "\n",
        "  # alculate the number of monthly payments\n",
        "  number_of_payments = loan_term_years * 12\n",
        "\n",
        "  # Calculate EMI\n",
        "  EMI = loan_amount * (monthly_interest_rate * (1 + monthly_interest_rate) ** number_of_payments) / ((1 + monthly_interest_rate) ** number_of_payments - 1)\n",
        "\n",
        "  return EMI\n",
        "\n",
        "# Prompt user for input details\n",
        "loan_amount = float(input(\"What is your loan amount? \"))\n",
        "annual_interest_rate = float(input(\"What is your annual interest rate (in %)? \"))\n",
        "loan_term_years = int(input(\"Over how many years will you repay the loan? \"))\n",
        "\n",
        "# Calculate EMI\n",
        "EMI = EMI_Calculator (loan_amount, annual_interest_rate, loan_term_years)\n",
        "\n",
        "# Output the result\n",
        "print(\"Your monthly EMI is: ${:.2f}\".format(EMI))\n",
        "#print(\"Your monthly EMI is: $\", EMI)\n",
        "#print(\"Your monthly EMI is: $\" + str(round(EMI, 2)))\n",
        "#print(f\"Your monthly EMI is: ${emi:.2f}\")"
      ],
      "metadata": {
        "colab": {
          "base_uri": "https://localhost:8080/"
        },
        "id": "Rd6NdsVGMKPX",
        "outputId": "bd90f377-c6a5-489f-e314-2735532232ff"
      },
      "execution_count": 15,
      "outputs": [
        {
          "output_type": "stream",
          "name": "stdout",
          "text": [
            "What is your loan amount? 18000\n",
            "What is your annual interest rate (in %)? 5\n",
            "Over how many years will you repay the loan? 9\n",
            "Your monthly EMI is: $207.31\n"
          ]
        }
      ]
    }
  ]
}